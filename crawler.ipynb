{
 "cells": [
  {
   "cell_type": "markdown",
   "metadata": {
    "vscode": {
     "languageId": "plaintext"
    }
   },
   "source": [
    "https://novel101.com/novels/ebc61f66-9c7b-4add-9a16-941eae3b31d0#table-of-contents"
   ]
  },
  {
   "cell_type": "code",
   "execution_count": 1,
   "metadata": {},
   "outputs": [],
   "source": [
    "import requests\n",
    "from bs4 import BeautifulSoup\n",
    "from tqdm.auto import tqdm"
   ]
  },
  {
   "cell_type": "markdown",
   "metadata": {},
   "source": [
    "### 波西傑克森／Percy Jackson"
   ]
  },
  {
   "cell_type": "code",
   "execution_count": 2,
   "metadata": {},
   "outputs": [
    {
     "name": "stdout",
     "output_type": "stream",
     "text": [
      "共有 106 章節\n"
     ]
    },
    {
     "data": {
      "text/plain": [
       "['/novels/ebc61f66-9c7b-4add-9a16-941eae3b31d0/chapters/2drm',\n",
       " '/novels/ebc61f66-9c7b-4add-9a16-941eae3b31d0/chapters/2drn',\n",
       " '/novels/ebc61f66-9c7b-4add-9a16-941eae3b31d0/chapters/2dro',\n",
       " '/novels/ebc61f66-9c7b-4add-9a16-941eae3b31d0/chapters/2drp',\n",
       " '/novels/ebc61f66-9c7b-4add-9a16-941eae3b31d0/chapters/2drq']"
      ]
     },
     "execution_count": 2,
     "metadata": {},
     "output_type": "execute_result"
    }
   ],
   "source": [
    "# 爬取的網站 URL\n",
    "story_url = 'https://novel101.com/novels/ebc61f66-9c7b-4add-9a16-941eae3b31d0#table-of-contents'\n",
    "\n",
    "# 發送 GET 請求\n",
    "response = requests.get(story_url)\n",
    "\n",
    "# 使用 BeautifulSoup 解析 HTML 內容\n",
    "soup = BeautifulSoup(response.text, 'lxml')\n",
    "\n",
    "# 獲取章節列表\n",
    "chapter_chunk = soup.find('ul', class_='novel-chapters')\n",
    "\n",
    "# 獲取章節連結\n",
    "link_chunk = chapter_chunk.find_all('a')\n",
    "link_list = [a['href'] for a in link_chunk]\n",
    "\n",
    "# 獲取章節標題\n",
    "title_chunk = chapter_chunk.find_all('span', class_='chapter-title')\n",
    "title_list = [chunk.text.replace(\"\\n\", \"\").replace(\"\\r\", \"\").replace(\" \", \"\") for chunk in title_chunk]\n",
    "\n",
    "print(f\"共有 {len(link_list)} 章節\")\n",
    "link_list[:5]"
   ]
  },
  {
   "cell_type": "code",
   "execution_count": 3,
   "metadata": {},
   "outputs": [
    {
     "data": {
      "application/vnd.jupyter.widget-view+json": {
       "model_id": "18e3050903cc4b35a4deefc89cd6aa2b",
       "version_major": 2,
       "version_minor": 0
      },
      "text/plain": [
       "percy_jackson:   0%|          | 0/106 [00:00<?, ?it/s]"
      ]
     },
     "metadata": {},
     "output_type": "display_data"
    },
    {
     "name": "stdout",
     "output_type": "stream",
     "text": [
      "1.神火之賊·我讓數學老師人間蒸發了\n",
      "瞧，我其實不願意當一個混血者的。\n",
      "如果你認為自己可能也是其中之一，而來讀這本書的話，我的建議是：趕緊合上書。無論你的媽媽爸爸對你的身世撒了多大的謊，都不要懷疑，然後試著去過普通人的生活。\n",
      "作為一個混血者總是危機四伏，隨時都得提心吊膽，惶惶終日。絶大多數情況下，你都可能會以痛苦而噁心的方式被殺。\n",
      "如果你只是個普通的孩子，只把這本書當做小說來閲讀的話，那就好極了。請接著讀下去吧！我羡慕你們能夠把這些發生過的事情都當做虛構的故事。\n",
      "但如果你從某些章節裡認清了自己——如果你感覺內心有什麼東西躍躍欲試——請立即停止閲讀。你可能是我們中的一員。而一旦你意識到這一點，那麼他們能感應到你也只是時間問題了。他們會找上你的。\n",
      "可別說我沒警告過你。\n",
      "我的名字是波西·傑克遜。\n",
      "我今年十二歲。直到幾個月前，我還是揚西學院的一名寄宿生。揚西學院是坐落於紐約州北部的一個專為問題兒童所開設的私立學校。\n",
      "那麼，我是一個問題兒童嗎？\n",
      "沒錯，你可以這麼說。\n",
      "我能用自己短暫而悲慘的人生中的任何一個方面來證明這一點。不過，從今年的五月份開始，事情的確變得越來越糟糕了。那時候我們整個六年級的學生正去曼哈頓進行校外實踐——二十八個精神問題兒童和兩位老師登上了一輛黃色的校車，前往紐約市的大都會博物館，去參觀那些古希臘和羅馬的展品。\n",
      "我知道——這聽起來像是一場折磨。揚西學院的校外實踐幾乎每一次都這樣。\n",
      "但這次是由我們的拉丁語老師布倫納先生擔任領隊，所以我還抱有一絲希望。\n",
      "布倫納先生是一位坐在電動輪椅上的中年男人。他留著稀疏的頭髮，鬍子拉碴，穿著一件磨掉了邊的呢絨外套，那衣服聞起來總有股咖啡味兒。你肯定不覺得他會很酷，但他總是講故事，說笑話，還讓我們在課堂上做遊戲。他還有很多了不起的收藏品，全是古羅馬的盔甲和武器，所以他是唯一不會令我在上課時昏昏欲睡的老師。\n",
      "我衷心希望這趟旅行順順噹噹。最起碼，我希望自己不會陷入麻煩中，哪怕就這一次也好。\n",
      "朋友，我大錯特錯了。\n",
      "你看，壞事總在校外實踐時發生在我身上。就比如上五年級的時候吧，我們去參觀薩拉托加戰場，我在一架美國獨立戰爭時期的加農炮旁出了點兒意外。雖然當時我並沒有瞄準校車，但很顯然我最後還是被開除了。而在那之前，我上四年級的時候，我們正在海洋世界的鯊魚池邊進行一場飼養員體驗之旅，我不小心稍稍碰到了根錯誤的操縱桿，於是全班都進行了一場計\n"
     ]
    }
   ],
   "source": [
    "all_text = str()\n",
    "for i in tqdm(range(len(link_list)), desc='percy_jackson'):\n",
    "    # 獲取第 i 章的 URL\n",
    "    chapter_url = 'https://novel101.com' + link_list[i]\n",
    "\n",
    "    # 發送 GET 請求\n",
    "    response = requests.get(chapter_url)\n",
    "\n",
    "    # 使用 BeautifulSoup 解析 HTML 內容\n",
    "    soup = BeautifulSoup(response.text, 'lxml')\n",
    "\n",
    "    # 獲取內容區塊\n",
    "    text_chunk = soup.find('div', class_='body')\n",
    "\n",
    "    # 獲取內文列表\n",
    "    text_list = text_chunk.find_all('p')\n",
    "\n",
    "    # 獲取章節內容\n",
    "    chapter_text = title_list[i] + '\\n'\n",
    "    for text in text_list:\n",
    "        chapter_text += (text.text).replace(\"\\u3000\\u3000\", \"\") + '\\n'\n",
    "    \n",
    "    all_text += chapter_text\n",
    "    \n",
    "print(all_text[:1000])"
   ]
  },
  {
   "cell_type": "code",
   "execution_count": 4,
   "metadata": {},
   "outputs": [],
   "source": [
    "# 儲存成文字檔\n",
    "with open('data/percy_jackson.txt', 'w', encoding='utf-8') as f:\n",
    "    f.write(all_text)"
   ]
  },
  {
   "cell_type": "markdown",
   "metadata": {},
   "source": [
    "### 混血營英雄／The Heroes of Olympus"
   ]
  },
  {
   "cell_type": "code",
   "execution_count": 5,
   "metadata": {},
   "outputs": [
    {
     "name": "stdout",
     "output_type": "stream",
     "text": [
      "共有 231 章節\n"
     ]
    },
    {
     "data": {
      "text/plain": [
       "['/novels/c8a58806-d5bb-490b-88da-bd941f22504d/chapters/2fqe',\n",
       " '/novels/c8a58806-d5bb-490b-88da-bd941f22504d/chapters/2fqf',\n",
       " '/novels/c8a58806-d5bb-490b-88da-bd941f22504d/chapters/2fqg',\n",
       " '/novels/c8a58806-d5bb-490b-88da-bd941f22504d/chapters/2fqh',\n",
       " '/novels/c8a58806-d5bb-490b-88da-bd941f22504d/chapters/2fqi']"
      ]
     },
     "execution_count": 5,
     "metadata": {},
     "output_type": "execute_result"
    }
   ],
   "source": [
    "# 爬取的網站 URL\n",
    "story_url = 'https://novel101.com/novels/c8a58806-d5bb-490b-88da-bd941f22504d'\n",
    "\n",
    "# 發送 GET 請求\n",
    "response = requests.get(story_url)\n",
    "\n",
    "# 使用 BeautifulSoup 解析 HTML 內容\n",
    "soup = BeautifulSoup(response.text, 'lxml')\n",
    "\n",
    "# 獲取章節列表\n",
    "chapter_chunk = soup.find('ul', class_='novel-chapters')\n",
    "\n",
    "# 獲取章節連結\n",
    "link_chunk = chapter_chunk.find_all('a')\n",
    "link_list = [a['href'] for a in link_chunk]\n",
    "\n",
    "# 獲取章節標題\n",
    "title_chunk = chapter_chunk.find_all('span', class_='chapter-title')\n",
    "title_list = [chunk.text.replace(\"\\n\", \"\").replace(\"\\r\", \"\").replace(\" \", \"\") for chunk in title_chunk]\n",
    "\n",
    "print(f\"共有 {len(link_list)} 章節\")\n",
    "link_list[:5]"
   ]
  },
  {
   "cell_type": "code",
   "execution_count": 6,
   "metadata": {},
   "outputs": [
    {
     "data": {
      "application/vnd.jupyter.widget-view+json": {
       "model_id": "39a9cae1935643a4b55c817b17f574b1",
       "version_major": 2,
       "version_minor": 0
      },
      "text/plain": [
       "the_heroes_of_olympus:   0%|          | 0/231 [00:00<?, ?it/s]"
      ]
     },
     "metadata": {},
     "output_type": "display_data"
    },
    {
     "name": "stdout",
     "output_type": "stream",
     "text": [
      "1.迷路英雄·握著不認識的女孩的手醒來\n",
      "伊阿宋遭到雷劈的那一天，他過得糟透了。\n",
      "他一覺醒來，發現自己居然坐在一輛學校巴士的後排座位上，又居然還握著一個不認識的女孩兒的手。當然啦，握女孩兒的手並不算太壞，可問題是他不知道這個女孩兒是誰，也不清楚自己在什麼地方、在幹什麼。他坐起身，揉了揉眼睛，努力回想。\n",
      "他的前面坐有十幾個小孩兒，有的在聽iPod，有的在說話，還有的在睡大覺。這些孩子看上去和他的年齡相仿……十五歲？十六歲？天啊，他竟然忘記了自己的年齡。\n",
      "學校巴士一路上顛簸得厲害。向窗外望去，天上晴空萬里，地上大漠荒涼。伊阿宋別的不敢確定，但自己絶不可能住在沙漠裡。於是他絞盡腦汁地回憶……回憶他做過的最後一件事情。\n",
      "坐在他旁邊的女孩兒用力握了握他的手，問：「伊阿宋，你沒事吧？」\n",
      "那女孩兒穿著一條退色的牛仔褲、一雙登山靴和一件滑雪羊毛夾克。棕褐色的頭髮被修剪得參差不齊，兩邊長短不一，末梢處用幾根細細的頭繩紮了起來。似乎是不想吸引別人的注意吧，她的臉上沒有任何化妝。可是她天生麗質，想讓別人忽視她都困難。她的眼睛彷彿萬花筒一般能夠不斷地變幻顏色——棕色、藍色和綠色。\n",
      "伊阿宋鬆開女孩兒的手，說：「呃，我不——」\n",
      "這時，坐在巴士前排的一位老師大聲喊道：「靜一靜，小渾蛋們，你們都豎起耳朵聽好啦！」\n",
      "這種口氣一聽就知道他是一位體育教練。他戴著一頂棒球帽，帽檐壓到眉際，剛好把那雙小眼睛露出來。整個臉龐像被門縫夾過似的，又瘦又尖，整個兒一山羊臉。他雙臂和胸部十分健美，把身上的球衣撐得鼓鼓囊囊的。白色的尼龍作訓褲和耐克球鞋一塵不染。他的脖子上掛著一個口哨，腰上彆著一個擴音喇叭。如果不是一米出頭的個子實在太矮，他看上去還是挺有幾分威懾力的。眼看他在過道中站著，有一個學生卻叫道：「站起來說話，海治教練。」\n",
      "「哪個在亂說話？」教練的眼睛在學生們中間搜尋著，想找出剛才冒犯他的人。忽然，他的目光盯住了伊阿宋，臉上的神情更加顯得惱怒。\n",
      "一縷寒意順著伊阿宋的脊樑骨爬下。從教練的表情上，伊阿宋能肯定他認出了自己並不是這個班的學生。他會怎麼做？把伊阿宋叫起來，質問他在這輛巴士上做什麼？伊阿宋一點兒頭緒都沒有，根本不知道應該如何應答。\n",
      "然而，海治教練卻移開了目光，清了清嗓子說：「再有五分鐘我們就到達此行的目的地了！大家結成小組，別把作業表搞丟了。如果你們這群小渾蛋中有哪個膽敢在這次活動中搗亂，我會立刻把他遣送回\n"
     ]
    }
   ],
   "source": [
    "all_text = str()\n",
    "for i in tqdm(range(len(link_list)), desc='the_heroes_of_olympus'):\n",
    "    # 獲取第 i 章的 URL\n",
    "    chapter_url = 'https://novel101.com' + link_list[i]\n",
    "\n",
    "    # 發送 GET 請求\n",
    "    response = requests.get(chapter_url)\n",
    "\n",
    "    # 使用 BeautifulSoup 解析 HTML 內容\n",
    "    soup = BeautifulSoup(response.text, 'lxml')\n",
    "\n",
    "    # 獲取內容區塊\n",
    "    text_chunk = soup.find('div', class_='body')\n",
    "\n",
    "    # 獲取內文列表\n",
    "    text_list = text_chunk.find_all('p')\n",
    "\n",
    "    # 獲取章節內容\n",
    "    chapter_text = title_list[i] + '\\n'\n",
    "    for text in text_list:\n",
    "        chapter_text += (text.text).replace(\"\\u3000\\u3000\", \"\") + '\\n'\n",
    "    \n",
    "    all_text += chapter_text\n",
    "    \n",
    "print(all_text[:1000])"
   ]
  },
  {
   "cell_type": "code",
   "execution_count": 7,
   "metadata": {},
   "outputs": [],
   "source": [
    "# 儲存成文字檔\n",
    "with open('data/the_heroes_of_olympus.txt', 'w', encoding='utf-8') as f:\n",
    "    f.write(all_text)"
   ]
  }
 ],
 "metadata": {
  "kernelspec": {
   "display_name": ".venv",
   "language": "python",
   "name": "python3"
  },
  "language_info": {
   "codemirror_mode": {
    "name": "ipython",
    "version": 3
   },
   "file_extension": ".py",
   "mimetype": "text/x-python",
   "name": "python",
   "nbconvert_exporter": "python",
   "pygments_lexer": "ipython3",
   "version": "3.12.7"
  }
 },
 "nbformat": 4,
 "nbformat_minor": 2
}

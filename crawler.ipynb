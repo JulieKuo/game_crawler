{
 "cells": [
  {
   "cell_type": "markdown",
   "metadata": {
    "vscode": {
     "languageId": "plaintext"
    }
   },
   "source": [
    "https://novel101.com/novels/ebc61f66-9c7b-4add-9a16-941eae3b31d0#table-of-contents"
   ]
  },
  {
   "cell_type": "code",
   "execution_count": 1,
   "metadata": {},
   "outputs": [],
   "source": [
    "import requests\n",
    "from bs4 import BeautifulSoup\n",
    "from tqdm.auto import tqdm"
   ]
  },
  {
   "cell_type": "markdown",
   "metadata": {},
   "source": [
    "### 波西傑克森／Percy Jackson"
   ]
  },
  {
   "cell_type": "code",
   "execution_count": 2,
   "metadata": {},
   "outputs": [
    {
     "name": "stdout",
     "output_type": "stream",
     "text": [
      "共有 106 章節\n"
     ]
    },
    {
     "data": {
      "text/plain": [
       "['/novels/ebc61f66-9c7b-4add-9a16-941eae3b31d0/chapters/2drm',\n",
       " '/novels/ebc61f66-9c7b-4add-9a16-941eae3b31d0/chapters/2drn',\n",
       " '/novels/ebc61f66-9c7b-4add-9a16-941eae3b31d0/chapters/2dro',\n",
       " '/novels/ebc61f66-9c7b-4add-9a16-941eae3b31d0/chapters/2drp',\n",
       " '/novels/ebc61f66-9c7b-4add-9a16-941eae3b31d0/chapters/2drq']"
      ]
     },
     "execution_count": 2,
     "metadata": {},
     "output_type": "execute_result"
    }
   ],
   "source": [
    "# 爬取的網站 URL\n",
    "story_url = 'https://novel101.com/novels/ebc61f66-9c7b-4add-9a16-941eae3b31d0#table-of-contents'\n",
    "\n",
    "# 發送 GET 請求\n",
    "response = requests.get(story_url)\n",
    "\n",
    "# 使用 BeautifulSoup 解析 HTML 內容\n",
    "soup = BeautifulSoup(response.text, 'lxml')\n",
    "\n",
    "# 獲取章節列表\n",
    "chapter_chunk = soup.find('ul', class_='novel-chapters')\n",
    "\n",
    "# 獲取章節連結\n",
    "link_chunk = chapter_chunk.find_all('a')\n",
    "link_list = [a['href'] for a in link_chunk]\n",
    "\n",
    "# 獲取章節標題\n",
    "title_chunk = chapter_chunk.find_all('span', class_='chapter-title')\n",
    "title_list = [chunk.text.replace(\"\\n\", \"\").replace(\"\\r\", \"\").replace(\" \", \"\") for chunk in title_chunk]\n",
    "\n",
    "print(f\"共有 {len(link_list)} 章節\")\n",
    "link_list[:5]"
   ]
  },
  {
   "cell_type": "code",
   "execution_count": null,
   "metadata": {},
   "outputs": [
    {
     "data": {
      "application/vnd.jupyter.widget-view+json": {
       "model_id": "730c2bc8dc2d4ab3bb44f94be8956d75",
       "version_major": 2,
       "version_minor": 0
      },
      "text/plain": [
       "percy_jackson:   0%|          | 0/106 [00:00<?, ?it/s]"
      ]
     },
     "metadata": {},
     "output_type": "display_data"
    }
   ],
   "source": [
    "all_text = str()\n",
    "for i in tqdm(range(len(link_list)), desc='percy_jackson'):\n",
    "    # 獲取第 i 章的 URL\n",
    "    chapter_url = 'https://novel101.com' + link_list[i]\n",
    "\n",
    "    # 發送 GET 請求\n",
    "    response = requests.get(chapter_url)\n",
    "\n",
    "    # 使用 BeautifulSoup 解析 HTML 內容\n",
    "    soup = BeautifulSoup(response.text, 'lxml')\n",
    "\n",
    "    # 獲取內容區塊\n",
    "    text_chunk = soup.find('div', class_='body')\n",
    "\n",
    "    # 獲取內文列表\n",
    "    text_list = text_chunk.find_all('p')\n",
    "\n",
    "    # 獲取章節內容\n",
    "    chapter_text = title_list[i] + '\\n'\n",
    "    for text in text_list:\n",
    "        chapter_text += (text.text).replace(\"\\u3000\\u3000\", \"\") + '\\n'\n",
    "    \n",
    "    all_text += chapter_text\n",
    "    \n",
    "print(all_text[:1000])"
   ]
  },
  {
   "cell_type": "code",
   "execution_count": 4,
   "metadata": {},
   "outputs": [],
   "source": [
    "# 儲存成文字檔\n",
    "with open('data/percy_jackson.txt', 'w', encoding='utf-8') as f:\n",
    "    f.write(all_text)"
   ]
  },
  {
   "cell_type": "markdown",
   "metadata": {},
   "source": [
    "### 混血營英雄／The Heroes of Olympus"
   ]
  },
  {
   "cell_type": "code",
   "execution_count": null,
   "metadata": {},
   "outputs": [],
   "source": [
    "# 爬取的網站 URL\n",
    "story_url = 'https://novel101.com/novels/c8a58806-d5bb-490b-88da-bd941f22504d'\n",
    "\n",
    "# 發送 GET 請求\n",
    "response = requests.get(story_url)\n",
    "\n",
    "# 使用 BeautifulSoup 解析 HTML 內容\n",
    "soup = BeautifulSoup(response.text, 'lxml')\n",
    "\n",
    "# 獲取章節列表\n",
    "chapter_chunk = soup.find('ul', class_='novel-chapters')\n",
    "\n",
    "# 獲取章節連結\n",
    "link_chunk = chapter_chunk.find_all('a')\n",
    "link_list = [a['href'] for a in link_chunk]\n",
    "\n",
    "# 獲取章節標題\n",
    "title_chunk = chapter_chunk.find_all('span', class_='chapter-title')\n",
    "title_list = [chunk.text.replace(\"\\n\", \"\").replace(\"\\r\", \"\").replace(\" \", \"\") for chunk in title_chunk]\n",
    "\n",
    "print(f\"共有 {len(link_list)} 章節\")\n",
    "link_list[:5]"
   ]
  },
  {
   "cell_type": "code",
   "execution_count": null,
   "metadata": {},
   "outputs": [],
   "source": [
    "all_text = str()\n",
    "for i in tqdm(range(len(link_list)), desc='the_heroes_of_olympus'):\n",
    "    # 獲取第 i 章的 URL\n",
    "    chapter_url = 'https://novel101.com' + link_list[i]\n",
    "\n",
    "    # 發送 GET 請求\n",
    "    response = requests.get(chapter_url)\n",
    "\n",
    "    # 使用 BeautifulSoup 解析 HTML 內容\n",
    "    soup = BeautifulSoup(response.text, 'lxml')\n",
    "\n",
    "    # 獲取內容區塊\n",
    "    text_chunk = soup.find('div', class_='body')\n",
    "\n",
    "    # 獲取內文列表\n",
    "    text_list = text_chunk.find_all('p')\n",
    "\n",
    "    # 獲取章節內容\n",
    "    chapter_text = title_list[i] + '\\n'\n",
    "    for text in text_list:\n",
    "        chapter_text += (text.text).replace(\"\\u3000\\u3000\", \"\") + '\\n'\n",
    "    \n",
    "    all_text += chapter_text\n",
    "    \n",
    "print(all_text[:1000])"
   ]
  },
  {
   "cell_type": "code",
   "execution_count": 7,
   "metadata": {},
   "outputs": [],
   "source": [
    "# 儲存成文字檔\n",
    "with open('data/the_heroes_of_olympus.txt', 'w', encoding='utf-8') as f:\n",
    "    f.write(all_text)"
   ]
  }
 ],
 "metadata": {
  "kernelspec": {
   "display_name": ".venv",
   "language": "python",
   "name": "python3"
  },
  "language_info": {
   "codemirror_mode": {
    "name": "ipython",
    "version": 3
   },
   "file_extension": ".py",
   "mimetype": "text/x-python",
   "name": "python",
   "nbconvert_exporter": "python",
   "pygments_lexer": "ipython3",
   "version": "3.12.3"
  }
 },
 "nbformat": 4,
 "nbformat_minor": 2
}
